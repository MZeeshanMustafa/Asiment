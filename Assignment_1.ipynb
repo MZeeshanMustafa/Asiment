{
  "nbformat": 4,
  "nbformat_minor": 5,
  "metadata": {
    "kernelspec": {
      "display_name": "Python 3",
      "language": "python",
      "name": "python3"
    },
    "language_info": {
      "codemirror_mode": {
        "name": "ipython",
        "version": 3
      },
      "file_extension": ".py",
      "mimetype": "text/x-python",
      "name": "python",
      "nbconvert_exporter": "python",
      "pygments_lexer": "ipython3",
      "version": "3.8.8"
    },
    "colab": {
      "name": "Assignment 1.ipynb",
      "provenance": [],
      "include_colab_link": true
    }
  },
  "cells": [
    {
      "cell_type": "markdown",
      "metadata": {
        "id": "view-in-github",
        "colab_type": "text"
      },
      "source": [
        "<a href=\"https://colab.research.google.com/github/MZeeshanMustafa/Asiment/blob/main/Assignment_1.ipynb\" target=\"_parent\"><img src=\"https://colab.research.google.com/assets/colab-badge.svg\" alt=\"Open In Colab\"/></a>"
      ]
    },
    {
      "cell_type": "markdown",
      "metadata": {
        "id": "dce3c4e5"
      },
      "source": [
        "# Assignment 1"
      ],
      "id": "dce3c4e5"
    },
    {
      "cell_type": "markdown",
      "metadata": {
        "id": "3922c164"
      },
      "source": [
        "### Q1Take input first name and last name from user store in two variables and then concatenate both variables and print full name"
      ],
      "id": "3922c164"
    },
    {
      "cell_type": "code",
      "metadata": {
        "colab": {
          "base_uri": "https://localhost:8080/"
        },
        "id": "3b177449",
        "outputId": "b2e59a30-ea26-466f-d7a7-ea4550d3323c"
      },
      "source": [
        "fname = input(\"Input your First Name : \")\n",
        "lname = input(\"Input your Last Name : \")\n",
        "print (\"Hello  \" + lname + \" \" + fname)"
      ],
      "id": "3b177449",
      "execution_count": null,
      "outputs": [
        {
          "output_type": "stream",
          "name": "stdout",
          "text": [
            "Input your First Name : Zeeshan\n",
            "Input your Last Name : Mustafa\n",
            "Hello  Mustafa Zeeshan\n"
          ]
        }
      ]
    },
    {
      "cell_type": "markdown",
      "metadata": {
        "id": "38c5c4b5"
      },
      "source": [
        "### Q2 Write a Python program to take input from user as a string then print first 2 and the last 2 chars from a given a string."
      ],
      "id": "38c5c4b5"
    },
    {
      "cell_type": "code",
      "metadata": {
        "id": "fdb4ae4a",
        "colab": {
          "base_uri": "https://localhost:8080/"
        },
        "outputId": "65f20a10-d520-4fcd-9ca3-df2e02b496a5"
      },
      "source": [
        "\n",
        "def string_both_ends(str):\n",
        "  if len(str) < 2:\n",
        "    return ''\n",
        "\n",
        "  return str[0:2] + str[-2:]\n",
        "\n",
        "print(string_both_ends('w3resource'))\n",
        "print(string_both_ends('w3'))\n",
        "print(string_both_ends('w'))"
      ],
      "id": "fdb4ae4a",
      "execution_count": null,
      "outputs": [
        {
          "output_type": "stream",
          "name": "stdout",
          "text": [
            "w3ce\n",
            "w3w3\n",
            "\n"
          ]
        }
      ]
    },
    {
      "cell_type": "markdown",
      "metadata": {
        "id": "24c8308d"
      },
      "source": [
        "### Q3 Write a Python program to remove the “h” character from the “TechShoor”."
      ],
      "id": "24c8308d"
    },
    {
      "cell_type": "code",
      "metadata": {
        "colab": {
          "base_uri": "https://localhost:8080/"
        },
        "id": "BWkSpO2AYsQv",
        "outputId": "5a943efc-67dd-4f80-99ed-ed94883cad59"
      },
      "source": [
        "myStr =  input('Enter the string : ')\n",
        "i = int(input('Enter the index of character to be removed : '))\n",
        "\n",
        "\n",
        "resStr = myStr[:i] +  myStr[(i+1):]\n",
        "\n",
        "\n",
        "print (\"Entered string : \" + myStr)\n",
        "print (\"String formed by removing i'th character : \" + resStr)"
      ],
      "id": "BWkSpO2AYsQv",
      "execution_count": null,
      "outputs": [
        {
          "output_type": "stream",
          "name": "stdout",
          "text": [
            "Enter the string : Techshoor\n",
            "Enter the index of character to be removed : 3\n",
            "Entered string : Techshoor\n",
            "String formed by removing i'th character : Tecshoor\n"
          ]
        }
      ]
    },
    {
      "cell_type": "markdown",
      "metadata": {
        "id": "cff3654b"
      },
      "source": [
        "### Q4 Write a Python program that accepts a comma separated sequence of words as input and prints the unique words in sorted form (alphanumerically).Sample Words: car, bike, truck, cycle, skateboard, civic"
      ],
      "id": "cff3654b"
    },
    {
      "cell_type": "code",
      "metadata": {
        "colab": {
          "base_uri": "https://localhost:8080/"
        },
        "id": "hXa_SRxzZ5wo",
        "outputId": "e9ffb3f0-246f-4806-afc2-2e4351217774"
      },
      "source": [
        "items = input(\"Input comma separated sequence of words\")\n",
        "words = [word for word in items.split(\",\")]\n",
        "print(\",\".join(sorted(list(set(words)))))"
      ],
      "id": "hXa_SRxzZ5wo",
      "execution_count": null,
      "outputs": [
        {
          "output_type": "stream",
          "name": "stdout",
          "text": [
            "Input comma separated sequence of wordscar ,bike , truck,cycle, skateboard, civic\n",
            " civic, skateboard, truck,bike ,car ,cycle\n"
          ]
        }
      ]
    },
    {
      "cell_type": "markdown",
      "metadata": {
        "id": "ad9c5197"
      },
      "source": [
        "### Q5 Write a Python Program take sample string: “I am a bad person” to replace with “I am a good person”. Hint (Use replace function)"
      ],
      "id": "ad9c5197"
    },
    {
      "cell_type": "code",
      "metadata": {
        "id": "47c0146e",
        "colab": {
          "base_uri": "https://localhost:8080/"
        },
        "outputId": "7d682ec7-c0dd-4d06-842a-18a0231333d2"
      },
      "source": [
        "txt=\" Iam a bad person\"\n",
        "x=txt.replace(\"Iam a bad person\",\"Iam a good person\")\n",
        "print (x)"
      ],
      "id": "47c0146e",
      "execution_count": null,
      "outputs": [
        {
          "output_type": "stream",
          "name": "stdout",
          "text": [
            " Iam a good person\n"
          ]
        }
      ]
    },
    {
      "cell_type": "markdown",
      "metadata": {
        "id": "ec2c2a76"
      },
      "source": [
        "### Q6 Write a Python program to reverse any string."
      ],
      "id": "ec2c2a76"
    },
    {
      "cell_type": "code",
      "metadata": {
        "id": "9a1e5025",
        "colab": {
          "base_uri": "https://localhost:8080/"
        },
        "outputId": "50c46d5b-b5b8-4765-d580-21e6f9177f96"
      },
      "source": [
        "def string_reverse(str1):\n",
        "\n",
        "    rstr1 = ''\n",
        "    index = len(str1)\n",
        "    while index > 0:\n",
        "        rstr1 += str1[ index - 1 ]\n",
        "        index = index - 1\n",
        "    return rstr1\n",
        "print(string_reverse('Anas'))"
      ],
      "id": "9a1e5025",
      "execution_count": null,
      "outputs": [
        {
          "output_type": "stream",
          "name": "stdout",
          "text": [
            "sanA\n"
          ]
        }
      ]
    },
    {
      "cell_type": "markdown",
      "metadata": {
        "id": "46e93424"
      },
      "source": [
        "### Q7 Write a Python program which accepts the radius of a circle from the user and compute the area"
      ],
      "id": "46e93424"
    },
    {
      "cell_type": "code",
      "metadata": {
        "id": "8d3c014d",
        "colab": {
          "base_uri": "https://localhost:8080/"
        },
        "outputId": "822e00fc-b83d-4fdd-d92c-ad0bdde6cec7"
      },
      "source": [
        "from math import pi\n",
        "r = float(input (\"Input the radius of the circle : \"))\n",
        "print (\"The area of the circle with radius \" + str(r) + \" is: \" + str(pi * r**2))"
      ],
      "id": "8d3c014d",
      "execution_count": null,
      "outputs": [
        {
          "output_type": "stream",
          "name": "stdout",
          "text": [
            "Input the radius of the circle : 2\n",
            "The area of the circle with radius 2.0 is: 12.566370614359172\n"
          ]
        }
      ]
    },
    {
      "cell_type": "markdown",
      "metadata": {
        "id": "76b51365"
      },
      "source": [
        "### Q8 Write a Python Program to count how many times ‘o’ in “Gooooooooooooooooogle”"
      ],
      "id": "76b51365"
    },
    {
      "cell_type": "code",
      "metadata": {
        "id": "8bffe1c6",
        "colab": {
          "base_uri": "https://localhost:8080/"
        },
        "outputId": "14a93338-a9ec-442b-de1c-66a6bd003fa6"
      },
      "source": [
        "\n",
        "s = \"Gooooooooooooooooogle\" \n",
        "print(\"Original string:\")\n",
        "print(s)\n",
        "print(\"Number of occurrence of 'o' in the said string:\")\n",
        "print(s.count(\"o\"))"
      ],
      "id": "8bffe1c6",
      "execution_count": null,
      "outputs": [
        {
          "output_type": "stream",
          "name": "stdout",
          "text": [
            "Original string:\n",
            "Gooooooooooooooooogle\n",
            "Number of occurrence of 'o' in the said string:\n",
            "17\n"
          ]
        }
      ]
    },
    {
      "cell_type": "markdown",
      "metadata": {
        "id": "fa32d9a1"
      },
      "source": [
        "### Q9 Create a Python Program to slice this string “I like to eat banana” and print only “ike to eat”"
      ],
      "id": "fa32d9a1"
    },
    {
      "cell_type": "code",
      "metadata": {
        "id": "cc03c6f4",
        "colab": {
          "base_uri": "https://localhost:8080/"
        },
        "outputId": "81453d4a-f091-499e-ee82-f1b62c316cf7"
      },
      "source": [
        "\n",
        "if __name__ == '__main__':\n",
        "\n",
        "    s = '! I like to eat banana'\n",
        "    pos = 16\n",
        "\n",
        "    s = s[5:pos] + s[pos+17:]\n",
        "\n",
        "    print(s)"
      ],
      "id": "cc03c6f4",
      "execution_count": null,
      "outputs": [
        {
          "output_type": "stream",
          "name": "stdout",
          "text": [
            "ike to eat \n"
          ]
        }
      ]
    },
    {
      "cell_type": "markdown",
      "metadata": {
        "id": "d619febb"
      },
      "source": [
        "### Q10 Write a Python program to print the following string in a specific format. (see Output)"
      ],
      "id": "d619febb"
    },
    {
      "cell_type": "raw",
      "metadata": {
        "id": "87b9e4b3"
      },
      "source": [
        "Sample String : \"Twinkle, twinkle, little star, How I wonder what you are! Up above the world so high, Like a diamond in the sky. Twinkle, twinkle, little star,How I wonder what you are\"\n",
        "\n",
        "Output :\n",
        "\n",
        "Twinkle, twinkle, little star,\n",
        "  How I wonder what you are!\n",
        "        Up above the world so high,\n",
        "        Like a diamond in the sky.\n",
        "Twinkle, twinkle, little star,\n",
        "  How I wonder what you are\n",
        "  \n",
        "The above output is required in print form"
      ],
      "id": "87b9e4b3"
    },
    {
      "cell_type": "code",
      "metadata": {
        "id": "ca90da1c",
        "colab": {
          "base_uri": "https://localhost:8080/"
        },
        "outputId": "96b34738-40bc-42ed-bce1-022131ce98ba"
      },
      "source": [
        "\n",
        "print(\"My name is MZeeshan mustafa, \\n\\tIam in class 12! \\n\\t\\tMy favorite color is green , \\n\\t\\tMy favorite dish is nudeals. \\nI live in Karachi\")"
      ],
      "id": "ca90da1c",
      "execution_count": null,
      "outputs": [
        {
          "output_type": "stream",
          "name": "stdout",
          "text": [
            "My name is MZeeshan mustafa, \n",
            "\tIam in class 12! \n",
            "\t\tMy favorite color is green , \n",
            "\t\tMy favorite dish is nudeals. \n",
            "I live in Karachi\n"
          ]
        }
      ]
    }
  ]
}